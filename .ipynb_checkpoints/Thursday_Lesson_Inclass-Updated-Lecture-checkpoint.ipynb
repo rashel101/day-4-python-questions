{
 "cells": [
  {
   "cell_type": "markdown",
   "metadata": {},
   "source": [
    "# Object-Oriented-Programming (OOP)"
   ]
  },
  {
   "cell_type": "markdown",
   "metadata": {},
   "source": [
    "## Tasks Today:\n",
    "\n",
    "   \n",
    "\n",
    "1) <b>Creating a Class (Initializing/Declaring)</b> <br>\n",
    "2) <b>Using a Class (Instantiating)</b> <br>\n",
    " &nbsp;&nbsp;&nbsp;&nbsp; a) Creating One Instance <br>\n",
    " &nbsp;&nbsp;&nbsp;&nbsp; b) Creating Multiple Instances <br>\n",
    " &nbsp;&nbsp;&nbsp;&nbsp; c) In-Class Exercise #1 - Create a Class 'Car' and instantiate three different makes of cars <br>\n",
    "3) <b>The \\__init\\__() Method</b> <br>\n",
    " &nbsp;&nbsp;&nbsp;&nbsp; a) The 'self' Attribute <br>\n",
    "4) <b>Class Attributes</b> <br>\n",
    " &nbsp;&nbsp;&nbsp;&nbsp; a) Initializing Attributes <br>\n",
    " &nbsp;&nbsp;&nbsp;&nbsp; b) Setting an Attribute Outside of the \\__init\\__() Method <br>\n",
    " &nbsp;&nbsp;&nbsp;&nbsp; c) Setting Defaults for Attributes <br>\n",
    " &nbsp;&nbsp;&nbsp;&nbsp; d) Accessing Class Attributes <br>\n",
    " &nbsp;&nbsp;&nbsp;&nbsp; e) Changing Class Attributes <br>\n",
    " &nbsp;&nbsp;&nbsp;&nbsp; f) In-Class Exercise #2 - Add a color and wheels attribute to your 'Car' class <br>\n",
    "5) <b>Class Methods</b> <br>\n",
    " &nbsp;&nbsp;&nbsp;&nbsp; a) Creating <br>\n",
    " &nbsp;&nbsp;&nbsp;&nbsp; b) Calling <br>\n",
    " &nbsp;&nbsp;&nbsp;&nbsp; c) Modifying an Attribute's Value Through a Method <br>\n",
    " &nbsp;&nbsp;&nbsp;&nbsp; d) Incrementing an Attribute's Value Through a Method <br>\n",
    " &nbsp;&nbsp;&nbsp;&nbsp; e) In-Class Exercise #3 - Add a method that prints the cars color and wheel number, then call them <br>\n",
    "6) <b>Inheritance</b> <br>\n",
    " &nbsp;&nbsp;&nbsp;&nbsp; a) Syntax for Inheriting from a Parent Class <br>\n",
    " &nbsp;&nbsp;&nbsp;&nbsp; b) The \\__init\\__() Method for a Child Class (super()) <br>\n",
    " &nbsp;&nbsp;&nbsp;&nbsp; c) Defining Attributes and Methods for the Child Class <br>\n",
    " &nbsp;&nbsp;&nbsp;&nbsp; d) Method Overriding <br>\n",
    " &nbsp;&nbsp;&nbsp;&nbsp; e) In-Class Exercise #4 - Create a class 'Ford' that inherits from 'Car' class and initialize it as a Blue Ford Explorer with 4 wheels using the super() method <br>\n",
    "7) <b>Classes as Attributes</b> <br>\n",
    "8) <b>Exercises</b> <br>\n",
    " &nbsp;&nbsp;&nbsp;&nbsp; a) Exercise #1 - Turn the shopping cart program from yesterday into an object-oriented program <br>"
   ]
  },
  {
   "cell_type": "code",
   "execution_count": 1,
   "metadata": {},
   "outputs": [
    {
     "name": "stdout",
     "output_type": "stream",
     "text": [
      "Here is your cart...\n",
      "Thanks for using our shopping cart program!\n"
     ]
    }
   ],
   "source": [
    "# Shopping Cart Example\n",
    "\n",
    "from IPython.display import clear_output\n",
    "\n",
    "# Creating Global List\n",
    "\n",
    "cart = []\n",
    "\n",
    "#Add to Cart function\n",
    "def addItem(item):\n",
    "    clear_output()\n",
    "    cart.append(item)\n",
    "    \n",
    "# Remove from cart function\n",
    "def removeItem(item):\n",
    "    clear_output()\n",
    "    cart.remove(item)\n",
    "    \n",
    "# Show Cart Function\n",
    "def showCart():\n",
    "    clear_output()\n",
    "    print(\"Here is your cart...\")\n",
    "    for value in cart:\n",
    "        print(value)\n",
    "        \n",
    "# Clear Cart Function\n",
    "def clearCart():\n",
    "    clear_output()\n",
    "    print(\"Your Cart is Now Empty\")\n",
    "    cart.clear()\n",
    "    \n",
    "# Creating a function with a loop that continues to ask the user until said user\n",
    "# wants to quit.\n",
    "# Using ALL of the above function inside of the below \"shoppingCart\" Function\n",
    "\n",
    "def shoppingCart():\n",
    "    while True:\n",
    "        response = input(\"What do you want to do? You can: quit/ add/ remove/ show or clear. Type Only one!\")\n",
    "        \n",
    "        if response.lower() == 'quit':\n",
    "            showCart()\n",
    "            print(\"Thanks for using our shopping cart program!\")\n",
    "            break\n",
    "        elif response.lower() == 'add':\n",
    "            item = input(\"What would you like to add?\")\n",
    "            addItem(item)\n",
    "            # clear_output()\n",
    "            # cart.append(item)\n",
    "        elif response.lower() == 'remove':\n",
    "            showCart()\n",
    "            #clear_output()\n",
    "            #print(\"Here is your cart...\")\n",
    "            #for value in cart:\n",
    "                #print(value)\n",
    "            item = input(\"What item do you want to remove?\")\n",
    "            removeItem(item)\n",
    "            #clear_output()\n",
    "            #cart.remove(item)\n",
    "        elif response.lower() == 'show':\n",
    "            showCart()\n",
    "        elif response.lower() == 'clear':\n",
    "            clearCart()\n",
    "            #clear_output()\n",
    "            #print(\"Your Cart is Now Empty\")\n",
    "            #cart.clear()\n",
    "        else:\n",
    "            print(\"Sorry that was not a valid option - Please choose add/remove/show/clear or quit\")\n",
    "shoppingCart()"
   ]
  },
  {
   "cell_type": "code",
   "execution_count": 2,
   "metadata": {},
   "outputs": [
    {
     "data": {
      "text/plain": [
       "'bob'"
      ]
     },
     "execution_count": 2,
     "metadata": {},
     "output_type": "execute_result"
    }
   ],
   "source": [
    "# Circumfrance of a cirle\n",
    "name = 'Bill'\n",
    "\n",
    "if name == 'Joel' or name == 'bob':\n",
    "    print('Name Found')\n",
    "    \n",
    "    \n",
    "name == 'Joel' or 'bob'"
   ]
  },
  {
   "cell_type": "markdown",
   "metadata": {},
   "source": [
    "## Creating a Class (Initializing/Declaring)\n",
    "<p>When creating a class, function, or even a variable you are initializing that object. Initializing and Declaring occur at the same time in Python, whereas in lower level languages you have to declare an object before initializing it. This is the first step in the process of using a class.</p>"
   ]
  },
  {
   "cell_type": "code",
   "execution_count": 3,
   "metadata": {},
   "outputs": [],
   "source": [
    "#takes infor \n",
    "#will declare them\n",
    "# everytime we create a new instnce of this class the new one will come with theses things already attached\n",
    "class Car(): #always end up using a capital letter \n",
    "    wheels = 4\n",
    "    color = 'blue'"
   ]
  },
  {
   "cell_type": "markdown",
   "metadata": {},
   "source": [
    "## Using a Class (Instantiating)\n",
    "<p>The process of creating a class is called <i>Instantiating</i>. Each time you create a variable of that type of class, it is referred to as an <i>Instance</i> of that class. This is the second step in the process of using a class.</p>"
   ]
  },
  {
   "cell_type": "markdown",
   "metadata": {},
   "source": [
    "##### Creating One Instance"
   ]
  },
  {
   "cell_type": "code",
   "execution_count": 4,
   "metadata": {},
   "outputs": [
    {
     "name": "stdout",
     "output_type": "stream",
     "text": [
      "blue\n"
     ]
    }
   ],
   "source": [
    "ford = Car()\n",
    "\n",
    "print (ford.color)"
   ]
  },
  {
   "cell_type": "markdown",
   "metadata": {},
   "source": [
    "##### Creating Multiple Instances"
   ]
  },
  {
   "cell_type": "code",
   "execution_count": 5,
   "metadata": {},
   "outputs": [
    {
     "name": "stdout",
     "output_type": "stream",
     "text": [
      "<class 'str'>\n"
     ]
    },
    {
     "ename": "AttributeError",
     "evalue": "'Car' object has no attribute 'bumper'",
     "output_type": "error",
     "traceback": [
      "\u001b[0;31m---------------------------------------------------------------------------\u001b[0m",
      "\u001b[0;31mAttributeError\u001b[0m                            Traceback (most recent call last)",
      "\u001b[0;32m<ipython-input-5-c8a9d827c30c>\u001b[0m in \u001b[0;36m<module>\u001b[0;34m\u001b[0m\n\u001b[1;32m      3\u001b[0m \u001b[0mporsche\u001b[0m\u001b[0;34m=\u001b[0m \u001b[0mCar\u001b[0m\u001b[0;34m(\u001b[0m\u001b[0;34m)\u001b[0m\u001b[0;34m\u001b[0m\u001b[0;34m\u001b[0m\u001b[0m\n\u001b[1;32m      4\u001b[0m \u001b[0mprint\u001b[0m\u001b[0;34m(\u001b[0m\u001b[0mtype\u001b[0m\u001b[0;34m(\u001b[0m\u001b[0mporsche\u001b[0m\u001b[0;34m.\u001b[0m\u001b[0mcolor\u001b[0m\u001b[0;34m)\u001b[0m\u001b[0;34m)\u001b[0m \u001b[0;31m# typr is just telling us the what type of value it is and in this case its a string\u001b[0m\u001b[0;34m\u001b[0m\u001b[0;34m\u001b[0m\u001b[0m\n\u001b[0;32m----> 5\u001b[0;31m \u001b[0mprint\u001b[0m\u001b[0;34m(\u001b[0m\u001b[0mporsche\u001b[0m\u001b[0;34m.\u001b[0m\u001b[0mbumper\u001b[0m\u001b[0;34m)\u001b[0m \u001b[0;31m#this wouldnt work because the attribute bumper doesnt exist\u001b[0m\u001b[0;34m\u001b[0m\u001b[0;34m\u001b[0m\u001b[0m\n\u001b[0m",
      "\u001b[0;31mAttributeError\u001b[0m: 'Car' object has no attribute 'bumper'"
     ]
    }
   ],
   "source": [
    "chevy= Car()\n",
    "honda = Car()\n",
    "porsche= Car()\n",
    "print(type(porsche.color)) # typr is just telling us the what type of value it is and in this case its a string \n",
    "print(porsche.bumper) #this wouldnt work because the attribute bumper doesnt exist "
   ]
  },
  {
   "cell_type": "markdown",
   "metadata": {},
   "source": [
    "##### In-Class Exercise #1 - Create a Class 'Car' and Instantiate three different makes of cars"
   ]
  },
  {
   "cell_type": "code",
   "execution_count": null,
   "metadata": {},
   "outputs": [],
   "source": [
    "class Car(): #the class is a template  so just give attributes\n",
    "    wheels = 4\n",
    "    doors = 4\n",
    "    color= 'midnight blue'\n",
    "honda= Car()\n",
    "toyota= Car()\n",
    "acura= Car()\n",
    "\n",
    "print(acura.wheels)\n"
   ]
  },
  {
   "cell_type": "markdown",
   "metadata": {},
   "source": [
    "## The \\__init\\__() Method <br>\n",
    "<p>This method is used in almost every created class, and called only once upon the creation of the class instance. This method will initialize all variables needed for the object.</p>"
   ]
  },
  {
   "cell_type": "code",
   "execution_count": null,
   "metadata": {},
   "outputs": [],
   "source": [
    "class Car():\n",
    "    engine= '4.7L' # constant attribute\n",
    "    \n",
    "    def __init__(self,wheels,color):\n",
    "        self.wheels= wheels\n",
    "        self.color= color\n",
    "ford = Car(4, 'red')\n",
    "chevy = Car(6, 'blue')\n",
    "\n",
    "print(ford.wheels)\n",
    "print(chevy.color)"
   ]
  },
  {
   "cell_type": "markdown",
   "metadata": {},
   "source": [
    "##### The 'self' Attribute <br>\n",
    "<p>This attribute is required to keep track of specific instance's attributes. Without the self attribute, the program would not know how to reference or keep track of an instance's attributes.</p>"
   ]
  },
  {
   "cell_type": "code",
   "execution_count": null,
   "metadata": {},
   "outputs": [],
   "source": [
    "# see above"
   ]
  },
  {
   "cell_type": "markdown",
   "metadata": {},
   "source": [
    "## Class Attributes <br>\n",
    "<p>While variables are inside of a class, they are referred to as attributes and not variables. When someone says 'attribute' you know they're speaking about a class. Attributes can be initialized through the init method, or outside of it.</p>"
   ]
  },
  {
   "cell_type": "markdown",
   "metadata": {},
   "source": [
    "##### Initializing Attributes"
   ]
  },
  {
   "cell_type": "code",
   "execution_count": null,
   "metadata": {},
   "outputs": [],
   "source": [
    "# see above"
   ]
  },
  {
   "cell_type": "markdown",
   "metadata": {},
   "source": [
    "##### Accessing Class Attributes"
   ]
  },
  {
   "cell_type": "code",
   "execution_count": null,
   "metadata": {
    "scrolled": true
   },
   "outputs": [],
   "source": [
    "# See Above"
   ]
  },
  {
   "cell_type": "markdown",
   "metadata": {},
   "source": [
    "##### Setting Defaults for Attributes"
   ]
  },
  {
   "cell_type": "code",
   "execution_count": null,
   "metadata": {},
   "outputs": [],
   "source": [
    "class Car():\n",
    "    engine = '4.7L'\n",
    "    \n",
    "    def __init__(self,wheels):\n",
    "        self.wheels = wheels\n",
    "        self.color= 'blue' #default attribute\n",
    "jeep= Car(8)\n",
    "honda= Car(4)\n",
    "\n",
    "print(honda.wheels)"
   ]
  },
  {
   "cell_type": "markdown",
   "metadata": {},
   "source": [
    "##### Changing Class Attributes <br>\n",
    "<p>Keep in mind there are global class attributes and then there are attributes only available to each class instance which won't effect other classes.</p>"
   ]
  },
  {
   "cell_type": "code",
   "execution_count": null,
   "metadata": {},
   "outputs": [],
   "source": [
    "#changing the default attribute for this example\n",
    "print(f' before change: { jeep.color}')\n",
    "\n",
    "jeep.color= 'white'\n",
    "print(f'\\n after change:{ jeep.color}')\n"
   ]
  },
  {
   "cell_type": "code",
   "execution_count": null,
   "metadata": {},
   "outputs": [],
   "source": []
  },
  {
   "cell_type": "markdown",
   "metadata": {},
   "source": [
    "##### In-Class Exercise #2 - Add a doors and seats attribute to your 'Car' class then print out two different instances with different doors and seats"
   ]
  },
  {
   "cell_type": "code",
   "execution_count": null,
   "metadata": {},
   "outputs": [],
   "source": [
    "class Car():\n",
    "    def __init__(self,doors,seats):\n",
    "        self.doors = doors\n",
    "        self.seats = seats\n",
    "honda = Car(2,4)\n",
    "toyota = Car(4,7)\n",
    "\n",
    "print(f'\\n honda seats : { honda.seats} and honda doors: {honda.doors}')\n",
    "print(f'\\n toyota seats : { toyota.seats} and honda doors: {toyota.doors}')"
   ]
  },
  {
   "cell_type": "markdown",
   "metadata": {},
   "source": [
    "## Class Methods <br>\n",
    "<p>While inside of a class, functions are referred to as 'methods'. If you hear someone mention methods, they're speaking about classes. Methods are essentially functions, but only callable on the instances of a class.</p>"
   ]
  },
  {
   "cell_type": "markdown",
   "metadata": {},
   "source": [
    "##### Creating"
   ]
  },
  {
   "cell_type": "code",
   "execution_count": 15,
   "metadata": {},
   "outputs": [],
   "source": [
    "class ShoppingBag():\n",
    "    \"\"\" \n",
    "        The shoppingbag class will  have handles, capacity aand items to place inside.\n",
    "        \n",
    "        attributes for the class:\n",
    "        -handles: expect to be an integer\n",
    "        -capacity: expect to be a string or an integer\n",
    "        -items: expect to be a list \n",
    "    \"\"\"\n",
    "    \n",
    "    def __init__(self,handles,capacity,items):\n",
    "        self.handles= handles\n",
    "        self.capacity= capacity\n",
    "        self.items= items\n",
    "    #method that shows the shoppingbag items\n",
    "    \n",
    "    def ShowShoppingBag(self):\n",
    "        print(\"You've got items!!\")\n",
    "        for item in self.items:\n",
    "            print(item)\n",
    "\n",
    "# show capacity or shoppingBag\n",
    "    def showCapacity(self):\n",
    "        print(f'your Capacity is : {self.capacity}')\n",
    "\n",
    "#add items to the items list for the shoppingBag\n",
    "    def addToShoppingBag(self):\n",
    "        products= input(\"what would you like to add?\")\n",
    "        self.items.append(products)\n",
    "# change the capacity of the shoppingbag (dynamically)\n",
    "    def changeBagCapacity(self,capacity):\n",
    "        self.capacity= capacity\n",
    "\n",
    "#increase capacity of the shoppingbag by 10  ---default\n",
    "    def increaseCapacity(self,changed_Capacity=10):\n",
    "        if self.capacity == isinstance(self.capacity, str):\n",
    "            print(\"we cant do that. :(\")\n",
    "        else:\n",
    "            self.capacity += changed_Capacity"
   ]
  },
  {
   "cell_type": "markdown",
   "metadata": {},
   "source": [
    "##### Calling"
   ]
  },
  {
   "cell_type": "code",
   "execution_count": 16,
   "metadata": {},
   "outputs": [
    {
     "name": "stdout",
     "output_type": "stream",
     "text": [
      "what would you like to do? add/show/ or quitquit\n",
      "You've got items!!\n",
      "thanks for shopping\n"
     ]
    }
   ],
   "source": [
    "# See Above\n",
    "# created and instance of the shoppingbag class\n",
    "wholeFoods_bag = ShoppingBag(2,10,[])\n",
    "\n",
    " #create function to run the shoppingBag(wholeFoods_bag) methods\n",
    "    \n",
    "def run():\n",
    "    while True:\n",
    "        response = input('what would you like to do? add/show/ or quit')\n",
    "        if response.lower() == 'quit':\n",
    "            wholeFoods_bag.ShowShoppingBag()\n",
    "            print(\"thanks for shopping\")\n",
    "            break\n",
    "        elif response.lower() == 'add':\n",
    "            wholeFoods_bag.addToShoppingBag()\n",
    "        elif response.lower() == 'show':\n",
    "            wholeFoods_bag.ShowShoppingBag()\n",
    "run()"
   ]
  },
  {
   "cell_type": "markdown",
   "metadata": {},
   "source": [
    "##### Modifying an Attribute's Value Through a Method"
   ]
  },
  {
   "cell_type": "code",
   "execution_count": 17,
   "metadata": {},
   "outputs": [
    {
     "name": "stdout",
     "output_type": "stream",
     "text": [
      "your Capacity is : 10\n",
      "capacity after the change...\n",
      "your Capacity is : 50\n"
     ]
    }
   ],
   "source": [
    "#show Capacity\n",
    "wholeFoods_bag.showCapacity()\n",
    "print('capacity after the change...')\n",
    "wholeFoods_bag.changeBagCapacity(50)\n",
    "wholeFoods_bag.showCapacity()"
   ]
  },
  {
   "cell_type": "markdown",
   "metadata": {},
   "source": [
    "##### Incrementing an Attribute's Value Through a Method"
   ]
  },
  {
   "cell_type": "code",
   "execution_count": 18,
   "metadata": {},
   "outputs": [
    {
     "name": "stdout",
     "output_type": "stream",
     "text": [
      "your Capacity is : 50\n",
      "After increase\n",
      "your Capacity is : 60\n"
     ]
    }
   ],
   "source": [
    "wholeFoods_bag.showCapacity()\n",
    "print('After increase')\n",
    "wholeFoods_bag.increaseCapacity()\n",
    "wholeFoods_bag.showCapacity()"
   ]
  },
  {
   "cell_type": "markdown",
   "metadata": {},
   "source": [
    "##### In-Class Exercise #3 - Add a method that takes in three parameters of year, doors and seats and prints out a formatted print statement with make, model, year, seats, and doors"
   ]
  },
  {
   "cell_type": "code",
   "execution_count": 29,
   "metadata": {},
   "outputs": [
    {
     "name": "stdout",
     "output_type": "stream",
     "text": [
      "\n",
      " This car is from: 2019 and is a : Ford and has: 4  doors and 5 seats\n"
     ]
    }
   ],
   "source": [
    "# Create class with 2 paramters inside of the __init__ which are make and model\n",
    "\n",
    "# Inside of the Car class create a method that has 4 parameter in total (self,year,door,seats)\n",
    "\n",
    "# Output: This car is from 2019 and is a Ford Expolorer and has 4 doors and 5 seats\n",
    "class Cars():\n",
    "    \n",
    "    def __init__(self, make, model):\n",
    "        self.make = make\n",
    "        self.model= model\n",
    "        \n",
    "    def carInfo(self, year, door, seats):\n",
    "        self.year= year\n",
    "        self.door= door\n",
    "        self.seats= seats\n",
    "        \n",
    "Ford = Cars('Ford','Explorer')\n",
    "Ford.carInfo('2019','4','5')\n",
    "\n",
    "print(f'\\n This car is from: { Ford.year} and is a : {Ford.make} and has: {Ford.door}  doors and {Ford.seats} seats')\n"
   ]
  },
  {
   "cell_type": "markdown",
   "metadata": {},
   "source": [
    "## Inheritance <br>\n",
    "<p>You can create a child-parent relationship between two classes by using inheritance. What this allows you to do is have overriding methods, but also inherit traits from the parent class. Think of it as an actual parent and child, the child will inherit the parent's genes, as will the classes in OOP</p>"
   ]
  },
  {
   "cell_type": "markdown",
   "metadata": {},
   "source": [
    "##### Syntax for Inheriting from a Parent Class"
   ]
  },
  {
   "cell_type": "code",
   "execution_count": 42,
   "metadata": {},
   "outputs": [
    {
     "name": "stdout",
     "output_type": "stream",
     "text": [
      "Bark\n",
      "make generic sound\n",
      "None\n",
      "9.8\n"
     ]
    }
   ],
   "source": [
    "#creation of our parent Class -- Animal\n",
    "\n",
    "class Animal():\n",
    "    acceleration =9.8\n",
    "    \n",
    "    def __init__(self,name,species,legs=4):\n",
    "        self.name = name\n",
    "        self.species =species\n",
    "        self.legs= legs\n",
    "    \n",
    "    #generic parent(animal) method -- no override yet\n",
    "    def makeSound(self):\n",
    "        print('make generic sound')\n",
    "\n",
    "        \n",
    "class Dog(Animal): #going to have the charactericstic of the parent\n",
    "    speed =15\n",
    "    \n",
    "    def printInfor(self):\n",
    "        print(f\"the dog has {self.speed}mph in speed and {self.acceleration} in acceleration\")\n",
    "        \n",
    "class Mut(Dog):\n",
    "    color = 'black, brown, and white'\n",
    "    \n",
    "    #Overriding of the Animal Class __init__ method (by way of using the dog class)\n",
    "    def __init__(self, name, species, eye_color, legs=4):\n",
    "        Dog.__init__(self,name,species,legs)\n",
    "        self.eye_color = eye_color\n",
    "        \n",
    "        \n",
    "        \n",
    "    #Override the makeSound method (coming from the animal Class)\n",
    "    \n",
    "    def makeSound(self):\n",
    "        noise= 'Bark'\n",
    "        return noise\n",
    "    \n",
    "lassie = Dog(' Lassie', 'Dog')\n",
    "basic_animal = Animal ('generic Animal Name', \"Generic Species\")\n",
    "buddy= Mut('Buddy','Mut','green')\n",
    "    \n",
    "print(buddy.makeSound())\n",
    "print(basic_animal.makeSound())\n",
    "print(buddy.acceleration)\n"
   ]
  },
  {
   "cell_type": "markdown",
   "metadata": {},
   "source": [
    "##### The \\__init\\__() Method for a Child Class - super()"
   ]
  },
  {
   "cell_type": "code",
   "execution_count": null,
   "metadata": {
    "scrolled": true
   },
   "outputs": [],
   "source": []
  },
  {
   "cell_type": "markdown",
   "metadata": {},
   "source": [
    "##### Defining Attributes and Methods for the Child Class"
   ]
  },
  {
   "cell_type": "code",
   "execution_count": null,
   "metadata": {},
   "outputs": [],
   "source": [
    "# See Above"
   ]
  },
  {
   "cell_type": "markdown",
   "metadata": {},
   "source": [
    "##### Method Overriding"
   ]
  },
  {
   "cell_type": "code",
   "execution_count": null,
   "metadata": {},
   "outputs": [],
   "source": [
    "# See Above"
   ]
  },
  {
   "cell_type": "markdown",
   "metadata": {},
   "source": [
    "## Classes as Attributes <br>\n",
    "<p>Classes can also be used as attributes within another class. This is useful in situations where you need to keep variables locally stored, instead of globally stored.</p>"
   ]
  },
  {
   "cell_type": "code",
   "execution_count": 46,
   "metadata": {},
   "outputs": [
    {
     "name": "stdout",
     "output_type": "stream",
     "text": [
      "20\n"
     ]
    },
    {
     "data": {
      "text/plain": [
       "' 2021 Tesla model X 20'"
      ]
     },
     "execution_count": 46,
     "metadata": {},
     "output_type": "execute_result"
    }
   ],
   "source": [
    "class Battery():\n",
    "    volts =7.8\n",
    "    \n",
    "    def __init__(self,cells):\n",
    "        self.cells =cells\n",
    "\n",
    "class Car():\n",
    "    def __init__(self,year,make,model,battery):\n",
    "        self.year=year\n",
    "        self.make=make\n",
    "        self.model=model\n",
    "        self.battery=battery\n",
    "    def printInfo(self):\n",
    "        return f' {self.year} { self.make} {self.model} {self.battery.cells}'\n",
    "    \n",
    "battery = Battery(20)\n",
    "tesla = Car(2021, 'Tesla', \"model X\", battery)\n",
    "print(tesla.battery.cells)\n",
    "tesla.printInfo()"
   ]
  },
  {
   "cell_type": "markdown",
   "metadata": {},
   "source": [
    "# Exercises"
   ]
  },
  {
   "cell_type": "markdown",
   "metadata": {},
   "source": [
    "### Exercise 1 - Turn the shopping cart program from yesterday into an object-oriented program\n",
    "\n",
    "The comments in the cell below are there as a guide for thinking about the problem. However, if you feel a different way is best for you and your own thought process, please do what feels best for you by all means."
   ]
  },
  {
   "cell_type": "code",
   "execution_count": 12,
   "metadata": {},
   "outputs": [
    {
     "name": "stdout",
     "output_type": "stream",
     "text": [
      "What should we pick up at the store?\n",
      "\n",
      "Enter 'quit' to stop adding items.\n",
      "Enter 'show' to show your current list.\n",
      "Enter 'delete' to delete an item from the list.\n",
      "\n",
      "> apple\n",
      "Added apple. List now has 1 items.\n",
      "> bean\n",
      "Added bean. List now has 2 items.\n",
      "> show\n",
      "Here is your list :\n",
      "apple\n",
      "bean\n",
      "> delete\n",
      "Here is your list :\n",
      "apple\n",
      "bean\n",
      "Which item would you like to delete from the list? bean\n",
      "bean has been removed from the list. You now have 1items\n",
      "> quit\n",
      "bye see you soon!\n",
      "Here is your list :\n",
      "apple\n"
     ]
    }
   ],
   "source": [
    "shopping_list = []\n",
    "\n",
    "def show_help():\n",
    "    print(\"What should we pick up at the store?\")\n",
    "    print(\"\"\"\n",
    "Enter 'quit' to stop adding items.\n",
    "Enter 'show' to show your current list.\n",
    "Enter 'delete' to delete an item from the list.\n",
    "\"\"\")\n",
    "def show_list():\n",
    "    print(\"Here is your list :\")\n",
    "    for item in shopping_list:\n",
    "        print(item)\n",
    "\n",
    "def add_to_list(new_item):\n",
    "    shopping_list.append(new_item)\n",
    "    print(\"Added {}. List now has {} items.\".format(new_item, len(shopping_list)))\n",
    "\n",
    "    #created a new function    \n",
    "\n",
    "def delete_from_list():\n",
    "    delete_me = input(\"Which item would you like to delete from the list? \")\n",
    "    shopping_list.remove(delete_me)\n",
    "    print(\"{} has been removed from the list. You now have {}items\".format(delete_me, len(shopping_list)))\n",
    "\n",
    "show_help()\n",
    "\n",
    "while True:\n",
    "    new_item = input(\"> \")\n",
    "\n",
    "    if new_item == 'quit':\n",
    "        print(\"bye see you soon!\")\n",
    "        break\n",
    "    elif new_item == 'delete':\n",
    "#shows the list, so you don't have to try to delete from memory\n",
    "        show_list()\n",
    "#run delete_from_list function\n",
    "        delete_from_list()\n",
    "        continue\n",
    "    elif new_item == 'show':\n",
    "        show_list()\n",
    "        continue\n",
    "    add_to_list(new_item)\n",
    "\n",
    "show_list()\n",
    "\n",
    "\n",
    "\n",
    "   "
   ]
  },
  {
   "cell_type": "markdown",
   "metadata": {},
   "source": [
    "### Exercise 2 - Write a Python class which has two methods get_String and print_String. get_String accept a string from the user and print_String print the string in upper case"
   ]
  },
  {
   "cell_type": "code",
   "execution_count": 3,
   "metadata": {},
   "outputs": [
    {
     "name": "stdout",
     "output_type": "stream",
     "text": [
      "hello\n",
      "HELLO\n"
     ]
    }
   ],
   "source": [
    "class String():\n",
    "    def __init__(self):\n",
    "        self.word = \"\"\n",
    "\n",
    "    def get_String(self):\n",
    "        self.word = input()\n",
    "\n",
    "    def print_String(self):\n",
    "        print(self.word.upper())\n",
    "\n",
    "word = String()\n",
    "word.get_String()\n",
    "word.print_String()"
   ]
  }
 ],
 "metadata": {
  "kernelspec": {
   "display_name": "Python 3",
   "language": "python",
   "name": "python3"
  },
  "language_info": {
   "codemirror_mode": {
    "name": "ipython",
    "version": 3
   },
   "file_extension": ".py",
   "mimetype": "text/x-python",
   "name": "python",
   "nbconvert_exporter": "python",
   "pygments_lexer": "ipython3",
   "version": "3.8.5"
  }
 },
 "nbformat": 4,
 "nbformat_minor": 2
}
